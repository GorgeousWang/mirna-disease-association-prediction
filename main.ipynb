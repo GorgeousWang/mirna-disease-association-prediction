{
 "cells": [
  {
   "cell_type": "code",
   "execution_count": null,
   "metadata": {
    "collapsed": false,
    "jupyter": {
     "outputs_hidden": false
    },
    "scrolled": true
   },
   "outputs": [],
   "source": [
    "# 查看当前挂载的数据集目录, 该目录下的变更重启环境后会自动还原\n",
    "# View dataset directory. \n",
    "# This directory will be recovered automatically after resetting environment. \n",
    "!ls /home/aistudio/data"
   ]
  },
  {
   "cell_type": "code",
   "execution_count": null,
   "metadata": {
    "collapsed": false,
    "jupyter": {
     "outputs_hidden": false
    },
    "scrolled": true
   },
   "outputs": [],
   "source": [
    "# 查看工作区文件, 该目录下的变更将会持久保存. 请及时清理不必要的文件, 避免加载过慢.\n",
    "# View personal work directory. \n",
    "# All changes under this directory will be kept even after reset. \n",
    "# Please clean unnecessary files in time to speed up environment loading. \n",
    "!ls /home/aistudio/work"
   ]
  },
  {
   "cell_type": "code",
   "execution_count": 1,
   "metadata": {
    "collapsed": false,
    "execution": {
     "iopub.execute_input": "2022-01-30T12:15:19.302689Z",
     "iopub.status.busy": "2022-01-30T12:15:19.302115Z",
     "iopub.status.idle": "2022-01-30T12:15:21.660089Z",
     "shell.execute_reply": "2022-01-30T12:15:21.659063Z",
     "shell.execute_reply.started": "2022-01-30T12:15:19.302653Z"
    },
    "jupyter": {
     "outputs_hidden": false
    },
    "scrolled": true
   },
   "outputs": [
    {
     "name": "stdout",
     "output_type": "stream",
     "text": [
      "Looking in indexes: https://pypi.tuna.tsinghua.edu.cn/simple\n",
      "Collecting beautifulsoup4\n",
      "  Downloading https://pypi.tuna.tsinghua.edu.cn/packages/69/bf/f0f194d3379d3f3347478bd267f754fc68c11cbf2fe302a6ab69447b1417/beautifulsoup4-4.10.0-py3-none-any.whl (97 kB)\n",
      "     |████████████████████████████████| 97 kB 2.4 MB/s             \n",
      "\u001b[?25hCollecting soupsieve>1.2\n",
      "  Downloading https://pypi.tuna.tsinghua.edu.cn/packages/72/a6/fd01694427f1c3fcadfdc5f1de901b813b9ac756f0806ef470cfed1de281/soupsieve-2.3.1-py3-none-any.whl (37 kB)\n",
      "Installing collected packages: soupsieve, beautifulsoup4\n",
      "Successfully installed beautifulsoup4-4.10.0 soupsieve-2.3.1\n"
     ]
    }
   ],
   "source": [
    "# 如果需要进行持久化安装, 需要使用持久化路径, 如下方代码示例:\n",
    "# If a persistence installation is required, \n",
    "# you need to use the persistence path as the following: \n",
    "!mkdir /home/aistudio/external-libraries\n",
    "!pip install beautifulsoup4 -t /home/aistudio/external-libraries"
   ]
  },
  {
   "cell_type": "code",
   "execution_count": 1,
   "metadata": {
    "collapsed": false,
    "execution": {
     "iopub.execute_input": "2022-02-18T10:39:04.281826Z",
     "iopub.status.busy": "2022-02-18T10:39:04.281352Z",
     "iopub.status.idle": "2022-02-18T10:39:04.285977Z",
     "shell.execute_reply": "2022-02-18T10:39:04.285377Z",
     "shell.execute_reply.started": "2022-02-18T10:39:04.281788Z"
    },
    "jupyter": {
     "outputs_hidden": false
    },
    "scrolled": true
   },
   "outputs": [],
   "source": [
    "# 同时添加如下代码, 这样每次环境(kernel)启动的时候只要运行下方代码即可: \n",
    "# Also add the following code, \n",
    "# so that every time the environment (kernel) starts, \n",
    "# just run the following code: \n",
    "import sys \n",
    "sys.path.append('/home/aistudio/external-libraries')"
   ]
  },
  {
   "cell_type": "markdown",
   "metadata": {},
   "source": [
    "# 一 简单模型启动\n",
    "## 1.1 环境安装"
   ]
  },
  {
   "cell_type": "code",
   "execution_count": 5,
   "metadata": {
    "execution": {
     "iopub.execute_input": "2022-01-30T12:17:30.695304Z",
     "iopub.status.busy": "2022-01-30T12:17:30.694366Z",
     "iopub.status.idle": "2022-01-30T12:17:59.804060Z",
     "shell.execute_reply": "2022-01-30T12:17:59.803077Z",
     "shell.execute_reply.started": "2022-01-30T12:17:30.695272Z"
    },
    "scrolled": true
   },
   "outputs": [
    {
     "name": "stdout",
     "output_type": "stream",
     "text": [
      "Looking in indexes: https://pypi.tuna.tsinghua.edu.cn/simple\n",
      "Collecting pgl==1.2.1\n",
      "  Downloading https://pypi.tuna.tsinghua.edu.cn/packages/e2/84/6aac242f80a794f1169386d73bdc03f2e3467e4fa85b1286979ddf51b1a0/pgl-1.2.1-cp37-cp37m-manylinux1_x86_64.whl (7.9 MB)\n",
      "     |████████████████████████████████| 7.9 MB 11.2 MB/s            \n",
      "\u001b[?25hCollecting visualdl>=2.0.0b\n",
      "  Downloading https://pypi.tuna.tsinghua.edu.cn/packages/87/c8/10d0d24822637d8e5493a73ad118640530195e45b1c71ae0e60606ff5f0e/visualdl-2.2.3-py3-none-any.whl (2.7 MB)\n",
      "     |████████████████████████████████| 2.7 MB 60.7 MB/s            \n",
      "\u001b[?25hCollecting redis-py-cluster\n",
      "  Downloading https://pypi.tuna.tsinghua.edu.cn/packages/b2/96/153bbcf5dee29b52b2674e77a87ce864d381f72151737317529b7de4f337/redis_py_cluster-2.1.3-py2.py3-none-any.whl (42 kB)\n",
      "     |████████████████████████████████| 42 kB 2.5 MB/s             \n",
      "\u001b[?25hCollecting numpy>=1.16.4\n",
      "  Using cached https://pypi.tuna.tsinghua.edu.cn/packages/50/46/292cff79f5b30151b027400efdb3f740ea03271b600751b6696cf550c10d/numpy-1.21.5-cp37-cp37m-manylinux_2_12_x86_64.manylinux2010_x86_64.whl (15.7 MB)\n",
      "Collecting cython>=0.25.2\n",
      "  Downloading https://pypi.tuna.tsinghua.edu.cn/packages/23/cd/c94dfb0e27fb26c2b32216822cbad02dbd2d4395a561e28ff8a9f7982b72/Cython-0.29.27-cp37-cp37m-manylinux_2_17_x86_64.manylinux2014_x86_64.manylinux_2_24_x86_64.whl (1.9 MB)\n",
      "     |████████████████████████████████| 1.9 MB 58.5 MB/s            \n",
      "\u001b[?25hCollecting requests\n",
      "  Using cached https://pypi.tuna.tsinghua.edu.cn/packages/2d/61/08076519c80041bc0ffa1a8af0cbd3bf3e2b62af10435d269a9d0f40564d/requests-2.27.1-py2.py3-none-any.whl (63 kB)\n",
      "Collecting protobuf>=3.11.0\n",
      "  Using cached https://pypi.tuna.tsinghua.edu.cn/packages/03/6b/12b307892ef5e9f4a1a92f5996922561c453540f5ce22a09038d2486b451/protobuf-3.19.4-cp37-cp37m-manylinux_2_17_x86_64.manylinux2014_x86_64.whl (1.1 MB)\n",
      "Collecting six>=1.14.0\n",
      "  Using cached https://pypi.tuna.tsinghua.edu.cn/packages/d9/5a/e7c31adbe875f2abbb91bd84cf2dc52d792b5a01506781dbcf25c91daf11/six-1.16.0-py2.py3-none-any.whl (11 kB)\n",
      "Collecting shellcheck-py\n",
      "  Downloading https://pypi.tuna.tsinghua.edu.cn/packages/0f/4f/ab756db996bdde0a647bf552c1be78cbf8055b664ecd54f08f3210f8cf26/shellcheck_py-0.8.0.3-py2.py3-none-manylinux_2_5_x86_64.manylinux1_x86_64.manylinux_2_17_x86_64.manylinux2014_x86_64.whl (2.1 MB)\n",
      "     |████████████████████████████████| 2.1 MB 61.5 MB/s            \n",
      "\u001b[?25hCollecting Flask-Babel>=1.0.0\n",
      "  Downloading https://pypi.tuna.tsinghua.edu.cn/packages/ab/3e/02331179ffab8b79e0383606a028b6a60fb1b4419b84935edd43223406a0/Flask_Babel-2.0.0-py3-none-any.whl (9.3 kB)\n",
      "Collecting flask>=1.1.1\n",
      "  Downloading https://pypi.tuna.tsinghua.edu.cn/packages/8f/b6/b4fdcb6d01ee20f9cfe81dcf9d3cd6c2f874b996f186f1c0b898c4a59c04/Flask-2.0.2-py3-none-any.whl (95 kB)\n",
      "     |████████████████████████████████| 95 kB 8.8 MB/s             \n",
      "\u001b[?25hCollecting bce-python-sdk\n",
      "  Downloading https://pypi.tuna.tsinghua.edu.cn/packages/55/ef/2a7e6c7692a036bae2570a9bcdcd7963ea54e07db97b4554c24d3cfacb21/bce-python-sdk-0.8.64.tar.gz (127 kB)\n",
      "     |████████████████████████████████| 127 kB 82.4 MB/s            \n",
      "\u001b[?25h  Preparing metadata (setup.py) ... \u001b[?25ldone\n",
      "\u001b[?25hCollecting Pillow>=7.0.0\n",
      "  Using cached https://pypi.tuna.tsinghua.edu.cn/packages/65/c5/85054edda7adce1e9444db026fb1972d81718b1605d0eddda94a6be0709f/Pillow-9.0.0-cp37-cp37m-manylinux_2_17_x86_64.manylinux2014_x86_64.whl (4.3 MB)\n",
      "Collecting pre-commit\n",
      "  Downloading https://pypi.tuna.tsinghua.edu.cn/packages/d6/a0/9c06353771c8dae6db437dd513a885eccdb1566cb332569130484eddf4e7/pre_commit-2.17.0-py2.py3-none-any.whl (195 kB)\n",
      "     |████████████████████████████████| 195 kB 62.1 MB/s            \n",
      "\u001b[?25hCollecting matplotlib\n",
      "  Using cached https://pypi.tuna.tsinghua.edu.cn/packages/bb/eb/fb97c7c75755edf10128ae3f06ba15ffb97b852740ef9311f20113f018eb/matplotlib-3.5.1-cp37-cp37m-manylinux_2_5_x86_64.manylinux1_x86_64.whl (11.2 MB)\n",
      "Collecting pandas\n",
      "  Downloading https://pypi.tuna.tsinghua.edu.cn/packages/3e/0c/23764c4635dcb0a784a787498d56847b90ebf974e65f4ab4053a5d97b1a5/pandas-1.3.5-cp37-cp37m-manylinux_2_17_x86_64.manylinux2014_x86_64.whl (11.3 MB)\n",
      "     |████████████████████████████████| 11.3 MB 34.0 MB/s            \n",
      "\u001b[?25hCollecting flake8>=3.7.9\n",
      "  Downloading https://pypi.tuna.tsinghua.edu.cn/packages/34/39/cde2c8a227abb4f9ce62fe55586b920f438f1d2903a1a22514d0b982c333/flake8-4.0.1-py2.py3-none-any.whl (64 kB)\n",
      "     |████████████████████████████████| 64 kB 4.6 MB/s             \n",
      "\u001b[?25hCollecting redis<4.0.0,>=3.0.0\n",
      "  Downloading https://pypi.tuna.tsinghua.edu.cn/packages/a7/7c/24fb0511df653cf1a5d938d8f5d19802a88cef255706fdda242ff97e91b7/redis-3.5.3-py2.py3-none-any.whl (72 kB)\n",
      "     |████████████████████████████████| 72 kB 878 kB/s             \n",
      "\u001b[?25hCollecting mccabe<0.7.0,>=0.6.0\n",
      "  Downloading https://pypi.tuna.tsinghua.edu.cn/packages/87/89/479dc97e18549e21354893e4ee4ef36db1d237534982482c3681ee6e7b57/mccabe-0.6.1-py2.py3-none-any.whl (8.6 kB)\n",
      "Collecting importlib-metadata<4.3\n",
      "  Downloading https://pypi.tuna.tsinghua.edu.cn/packages/22/51/52442c59db26637681148c21f8984eed58c9db67053a0a4783a047010c98/importlib_metadata-4.2.0-py3-none-any.whl (16 kB)\n",
      "Collecting pycodestyle<2.9.0,>=2.8.0\n",
      "  Downloading https://pypi.tuna.tsinghua.edu.cn/packages/15/94/bc43a2efb7b8615e38acde2b6624cae8c9ec86faf718ff5676c5179a7714/pycodestyle-2.8.0-py2.py3-none-any.whl (42 kB)\n",
      "     |████████████████████████████████| 42 kB 1.7 MB/s             \n",
      "\u001b[?25hCollecting pyflakes<2.5.0,>=2.4.0\n",
      "  Downloading https://pypi.tuna.tsinghua.edu.cn/packages/43/fb/38848eb494af7df9aeb2d7673ace8b213313eb7e391691a79dbaeb6a838f/pyflakes-2.4.0-py2.py3-none-any.whl (69 kB)\n",
      "     |████████████████████████████████| 69 kB 12.6 MB/s            \n",
      "\u001b[?25hCollecting itsdangerous>=2.0\n",
      "  Downloading https://pypi.tuna.tsinghua.edu.cn/packages/9c/96/26f935afba9cd6140216da5add223a0c465b99d0f112b68a4ca426441019/itsdangerous-2.0.1-py3-none-any.whl (18 kB)\n",
      "Collecting Werkzeug>=2.0\n",
      "  Downloading https://pypi.tuna.tsinghua.edu.cn/packages/1e/73/51137805d1b8d97367a8a77cae4a792af14bb7ce58fbd071af294c740cf0/Werkzeug-2.0.2-py3-none-any.whl (288 kB)\n",
      "     |████████████████████████████████| 288 kB 65.4 MB/s            \n",
      "\u001b[?25hCollecting click>=7.1.2\n",
      "  Using cached https://pypi.tuna.tsinghua.edu.cn/packages/48/58/c8aa6a8e62cc75f39fee1092c45d6b6ba684122697d7ce7d53f64f98a129/click-8.0.3-py3-none-any.whl (97 kB)\n",
      "Collecting Jinja2>=3.0\n",
      "  Downloading https://pypi.tuna.tsinghua.edu.cn/packages/20/9a/e5d9ec41927401e41aea8af6d16e78b5e612bca4699d417f646a9610a076/Jinja2-3.0.3-py3-none-any.whl (133 kB)\n",
      "     |████████████████████████████████| 133 kB 69.3 MB/s            \n",
      "\u001b[?25hCollecting pytz\n",
      "  Downloading https://pypi.tuna.tsinghua.edu.cn/packages/d3/e3/d9f046b5d1c94a3aeab15f1f867aa414f8ee9d196fae6865f1d6a0ee1a0b/pytz-2021.3-py2.py3-none-any.whl (503 kB)\n",
      "     |████████████████████████████████| 503 kB 54.8 MB/s            \n",
      "\u001b[?25hCollecting Babel>=2.3\n",
      "  Downloading https://pypi.tuna.tsinghua.edu.cn/packages/aa/96/4ba93c5f40459dc850d25f9ba93f869a623e77aaecc7a9344e19c01942cf/Babel-2.9.1-py2.py3-none-any.whl (8.8 MB)\n",
      "     |████████████████████████████████| 8.8 MB 74.7 MB/s            \n",
      "\u001b[?25hCollecting pycryptodome>=3.8.0\n",
      "  Downloading https://pypi.tuna.tsinghua.edu.cn/packages/d7/45/c50c9c800603edfd0981d2ae4d7d97523c24e085d50d527ea78caa376d4b/pycryptodome-3.13.0-cp35-abi3-manylinux2010_x86_64.whl (2.0 MB)\n",
      "     |████████████████████████████████| 2.0 MB 53.9 MB/s            \n",
      "\u001b[?25hCollecting future>=0.6.0\n",
      "  Downloading https://pypi.tuna.tsinghua.edu.cn/packages/45/0b/38b06fd9b92dc2b68d58b75f900e97884c45bedd2ff83203d933cf5851c9/future-0.18.2.tar.gz (829 kB)\n",
      "     |████████████████████████████████| 829 kB 52.0 MB/s            \n",
      "\u001b[?25h  Preparing metadata (setup.py) ... \u001b[?25ldone\n",
      "\u001b[?25hCollecting packaging>=20.0\n",
      "  Using cached https://pypi.tuna.tsinghua.edu.cn/packages/05/8e/8de486cbd03baba4deef4142bd643a3e7bbe954a784dc1bb17142572d127/packaging-21.3-py3-none-any.whl (40 kB)\n",
      "Collecting fonttools>=4.22.0\n",
      "  Using cached https://pypi.tuna.tsinghua.edu.cn/packages/1b/1e/23df4eda86938b503698c24f100462f6e80a8b40094635284e57994722ac/fonttools-4.29.0-py3-none-any.whl (895 kB)\n",
      "Collecting kiwisolver>=1.0.1\n",
      "  Using cached https://pypi.tuna.tsinghua.edu.cn/packages/09/6b/6e567cb2e86d4e5939a9233f8734e26021b6a9c1bc4b1edccba236a84cc2/kiwisolver-1.3.2-cp37-cp37m-manylinux_2_5_x86_64.manylinux1_x86_64.whl (1.1 MB)\n",
      "Collecting cycler>=0.10\n",
      "  Using cached https://pypi.tuna.tsinghua.edu.cn/packages/5c/f9/695d6bedebd747e5eb0fe8fad57b72fdf25411273a39791cde838d5a8f51/cycler-0.11.0-py3-none-any.whl (6.4 kB)\n",
      "Collecting pyparsing>=2.2.1\n",
      "  Using cached https://pypi.tuna.tsinghua.edu.cn/packages/80/c1/23fd82ad3121656b585351aba6c19761926bb0db2ebed9e4ff09a43a3fcc/pyparsing-3.0.7-py3-none-any.whl (98 kB)\n",
      "Collecting python-dateutil>=2.7\n",
      "  Using cached https://pypi.tuna.tsinghua.edu.cn/packages/36/7a/87837f39d0296e723bb9b62bbb257d0355c7f6128853c78955f57342a56d/python_dateutil-2.8.2-py2.py3-none-any.whl (247 kB)\n",
      "Collecting nodeenv>=0.11.1\n",
      "  Downloading https://pypi.tuna.tsinghua.edu.cn/packages/54/73/56c89b343befb9c63e8117294d265458f0ff726fa2abcdc6bb5ec5e66a1a/nodeenv-1.6.0-py2.py3-none-any.whl (21 kB)\n",
      "Collecting cfgv>=2.0.0\n",
      "  Downloading https://pypi.tuna.tsinghua.edu.cn/packages/6d/82/0a0ebd35bae9981dea55c06f8e6aaf44a49171ad798795c72c6f64cba4c2/cfgv-3.3.1-py2.py3-none-any.whl (7.3 kB)\n",
      "Collecting virtualenv>=20.0.8\n",
      "  Downloading https://pypi.tuna.tsinghua.edu.cn/packages/ef/a1/4e1700f25211b3851e6be6675061e0c8eae7585d80177a40e9b02d1105d8/virtualenv-20.13.0-py2.py3-none-any.whl (6.5 MB)\n",
      "     |████████████████████████████████| 6.5 MB 58.2 MB/s            \n",
      "\u001b[?25hCollecting pyyaml>=5.1\n",
      "  Using cached https://pypi.tuna.tsinghua.edu.cn/packages/eb/5f/6e6fe6904e1a9c67bc2ca5629a69e7a5a0b17f079da838bab98a1e548b25/PyYAML-6.0-cp37-cp37m-manylinux_2_5_x86_64.manylinux1_x86_64.manylinux_2_12_x86_64.manylinux2010_x86_64.whl (596 kB)\n",
      "Collecting toml\n",
      "  Downloading https://pypi.tuna.tsinghua.edu.cn/packages/44/6f/7120676b6d73228c96e17f1f794d8ab046fc910d781c8d151120c3f1569e/toml-0.10.2-py2.py3-none-any.whl (16 kB)\n",
      "Collecting identify>=1.0.0\n",
      "  Downloading https://pypi.tuna.tsinghua.edu.cn/packages/05/bb/af811e99013d289b90432fea033fd5142b95220fd068d6dd0285f7768398/identify-2.4.6-py2.py3-none-any.whl (98 kB)\n",
      "     |████████████████████████████████| 98 kB 14.4 MB/s            \n",
      "\u001b[?25hCollecting charset-normalizer~=2.0.0\n",
      "  Using cached https://pypi.tuna.tsinghua.edu.cn/packages/84/3e/1037abe6498e65d645ce7a22d3402605d49a3b2c7f20c3abb027760da4f0/charset_normalizer-2.0.10-py3-none-any.whl (39 kB)\n",
      "Collecting certifi>=2017.4.17\n",
      "  Using cached https://pypi.tuna.tsinghua.edu.cn/packages/37/45/946c02767aabb873146011e665728b680884cd8fe70dde973c640e45b775/certifi-2021.10.8-py2.py3-none-any.whl (149 kB)\n",
      "Collecting idna<4,>=2.5\n",
      "  Using cached https://pypi.tuna.tsinghua.edu.cn/packages/04/a2/d918dcd22354d8958fe113e1a3630137e0fc8b44859ade3063982eacd2a4/idna-3.3-py3-none-any.whl (61 kB)\n",
      "Collecting urllib3<1.27,>=1.21.1\n",
      "  Using cached https://pypi.tuna.tsinghua.edu.cn/packages/4e/b8/f5a25b22e803f0578e668daa33ba3701bb37858ec80e08a150bd7d2cf1b1/urllib3-1.26.8-py2.py3-none-any.whl (138 kB)\n",
      "Collecting zipp>=0.5\n",
      "  Using cached https://pypi.tuna.tsinghua.edu.cn/packages/52/c5/df7953fe6065185af5956265e3b16f13c2826c2b1ba23d43154f3af453bc/zipp-3.7.0-py3-none-any.whl (5.3 kB)\n",
      "Collecting typing-extensions>=3.6.4\n",
      "  Using cached https://pypi.tuna.tsinghua.edu.cn/packages/05/e4/baf0031e39cf545f0c9edd5b1a2ea12609b7fcba2d58e118b11753d68cf0/typing_extensions-4.0.1-py3-none-any.whl (22 kB)\n",
      "Collecting MarkupSafe>=2.0\n",
      "  Downloading https://pypi.tuna.tsinghua.edu.cn/packages/09/f1/5ca5da61ec071ce1e9c423f66a5bde508957601118be9cd37aeccfeab2f6/MarkupSafe-2.0.1-cp37-cp37m-manylinux_2_5_x86_64.manylinux1_x86_64.manylinux_2_12_x86_64.manylinux2010_x86_64.whl (31 kB)\n",
      "Collecting distlib<1,>=0.3.1\n",
      "  Downloading https://pypi.tuna.tsinghua.edu.cn/packages/ac/a3/8ee4f54d5f12e16eeeda6b7df3dfdbda24e6cc572c86ff959a4ce110391b/distlib-0.3.4-py2.py3-none-any.whl (461 kB)\n",
      "     |████████████████████████████████| 461 kB 47.2 MB/s            \n",
      "\u001b[?25hCollecting filelock<4,>=3.2\n",
      "  Downloading https://pypi.tuna.tsinghua.edu.cn/packages/ca/6c/ab2f79146ca546875e2a633d21e968acc17042ce88e4413b340541f0d4c5/filelock-3.4.2-py3-none-any.whl (9.9 kB)\n",
      "Collecting platformdirs<3,>=2\n",
      "  Downloading https://pypi.tuna.tsinghua.edu.cn/packages/9f/3d/4606ee54e0af98aa8f9a672b5acfd69318a5917fbb9f8e2c3aaf9c2f293f/platformdirs-2.4.1-py3-none-any.whl (14 kB)\n",
      "Building wheels for collected packages: bce-python-sdk, future\n",
      "  Building wheel for bce-python-sdk (setup.py) ... \u001b[?25ldone\n",
      "\u001b[?25h  Created wheel for bce-python-sdk: filename=bce_python_sdk-0.8.64-py3-none-any.whl size=202976 sha256=bcf68ab70b8109da9b0be6295e2259003ab6f2bb8c14711b78ad31ef7153eae3\n",
      "  Stored in directory: /home/aistudio/.cache/pip/wheels/01/15/1e/081179eb38f11101f2a4aa2cc65613101db4b75623ff8ff3eb\n",
      "  Building wheel for future (setup.py) ... \u001b[?25ldone\n",
      "\u001b[?25h  Created wheel for future: filename=future-0.18.2-py3-none-any.whl size=491056 sha256=b98902c22122c2c7963b7b0f62df449eb788403a16a7cfb5b232a40fc9a60c32\n",
      "  Stored in directory: /home/aistudio/.cache/pip/wheels/bc/6f/cd/f72c82ed44590b04c6deb82b177f0d260aec8621f6568e0368\n",
      "Successfully built bce-python-sdk future\n",
      "Installing collected packages: zipp, typing-extensions, MarkupSafe, importlib-metadata, Werkzeug, six, pytz, pyparsing, platformdirs, Jinja2, itsdangerous, filelock, distlib, click, virtualenv, urllib3, toml, pyyaml, python-dateutil, pyflakes, pycryptodome, pycodestyle, Pillow, packaging, numpy, nodeenv, mccabe, kiwisolver, idna, identify, future, fonttools, flask, cycler, charset-normalizer, cfgv, certifi, Babel, shellcheck-py, requests, redis, protobuf, pre-commit, pandas, matplotlib, Flask-Babel, flake8, bce-python-sdk, visualdl, redis-py-cluster, cython, pgl\n",
      "\u001b[31mERROR: pip's dependency resolver does not currently take into account all the packages that are installed. This behaviour is the source of the following dependency conflicts.\n",
      "parl 1.4.1 requires pyzmq==18.1.1, but you have pyzmq 22.3.0 which is incompatible.\n",
      "blackhole 1.0.1 requires numpy<=1.19.5, but you have numpy 1.21.5 which is incompatible.\n",
      "blackhole 1.0.1 requires pandas<=1.1.5,>=0.24.0, but you have pandas 1.3.5 which is incompatible.\u001b[0m\n",
      "Successfully installed Babel-2.9.1 Flask-Babel-2.0.0 Jinja2-3.0.3 MarkupSafe-2.0.1 Pillow-9.0.0 Werkzeug-2.0.2 bce-python-sdk-0.8.64 certifi-2021.10.8 cfgv-3.3.1 charset-normalizer-2.0.10 click-8.0.3 cycler-0.11.0 cython-0.29.27 distlib-0.3.4 filelock-3.4.2 flake8-4.0.1 flask-2.0.2 fonttools-4.29.0 future-0.18.2 identify-2.4.6 idna-3.3 importlib-metadata-4.2.0 itsdangerous-2.0.1 kiwisolver-1.3.2 matplotlib-3.5.1 mccabe-0.6.1 nodeenv-1.6.0 numpy-1.21.5 packaging-21.3 pandas-1.3.5 pgl-1.2.1 platformdirs-2.4.1 pre-commit-2.17.0 protobuf-3.19.4 pycodestyle-2.8.0 pycryptodome-3.13.0 pyflakes-2.4.0 pyparsing-3.0.7 python-dateutil-2.8.2 pytz-2021.3 pyyaml-6.0 redis-3.5.3 redis-py-cluster-2.1.3 requests-2.27.1 shellcheck-py-0.8.0.3 six-1.16.0 toml-0.10.2 typing-extensions-4.0.1 urllib3-1.26.8 virtualenv-20.13.0 visualdl-2.2.3 zipp-3.7.0\n",
      "\u001b[33mWARNING: Target directory /home/aistudio/external-libraries/certifi already exists. Specify --upgrade to force replacement.\u001b[0m\n",
      "\u001b[33mWARNING: Target directory /home/aistudio/external-libraries/fontTools already exists. Specify --upgrade to force replacement.\u001b[0m\n",
      "\u001b[33mWARNING: Target directory /home/aistudio/external-libraries/google already exists. Specify --upgrade to force replacement.\u001b[0m\n",
      "\u001b[33mWARNING: Target directory /home/aistudio/external-libraries/_yaml already exists. Specify --upgrade to force replacement.\u001b[0m\n",
      "\u001b[33mWARNING: Target directory /home/aistudio/external-libraries/cycler.py already exists. Specify --upgrade to force replacement.\u001b[0m\n",
      "\u001b[33mWARNING: Target directory /home/aistudio/external-libraries/fonttools-4.29.0.dist-info already exists. Specify --upgrade to force replacement.\u001b[0m\n",
      "\u001b[33mWARNING: Target directory /home/aistudio/external-libraries/requests already exists. Specify --upgrade to force replacement.\u001b[0m\n",
      "\u001b[33mWARNING: Target directory /home/aistudio/external-libraries/zipp-3.7.0.dist-info already exists. Specify --upgrade to force replacement.\u001b[0m\n",
      "\u001b[33mWARNING: Target directory /home/aistudio/external-libraries/cycler-0.11.0.dist-info already exists. Specify --upgrade to force replacement.\u001b[0m\n",
      "\u001b[33mWARNING: Target directory /home/aistudio/external-libraries/PyYAML-6.0.dist-info already exists. Specify --upgrade to force replacement.\u001b[0m\n",
      "\u001b[33mWARNING: Target directory /home/aistudio/external-libraries/six.py already exists. Specify --upgrade to force replacement.\u001b[0m\n",
      "\u001b[33mWARNING: Target directory /home/aistudio/external-libraries/idna already exists. Specify --upgrade to force replacement.\u001b[0m\n",
      "\u001b[33mWARNING: Target directory /home/aistudio/external-libraries/pyparsing-3.0.7.dist-info already exists. Specify --upgrade to force replacement.\u001b[0m\n",
      "\u001b[33mWARNING: Target directory /home/aistudio/external-libraries/numpy already exists. Specify --upgrade to force replacement.\u001b[0m\n",
      "\u001b[33mWARNING: Target directory /home/aistudio/external-libraries/importlib_metadata already exists. Specify --upgrade to force replacement.\u001b[0m\n",
      "\u001b[33mWARNING: Target directory /home/aistudio/external-libraries/charset_normalizer already exists. Specify --upgrade to force replacement.\u001b[0m\n",
      "\u001b[33mWARNING: Target directory /home/aistudio/external-libraries/pylab.py already exists. Specify --upgrade to force replacement.\u001b[0m\n",
      "\u001b[33mWARNING: Target directory /home/aistudio/external-libraries/idna-3.3.dist-info already exists. Specify --upgrade to force replacement.\u001b[0m\n",
      "\u001b[33mWARNING: Target directory /home/aistudio/external-libraries/protobuf-3.19.4.dist-info already exists. Specify --upgrade to force replacement.\u001b[0m\n",
      "\u001b[33mWARNING: Target directory /home/aistudio/external-libraries/urllib3-1.26.8.dist-info already exists. Specify --upgrade to force replacement.\u001b[0m\n",
      "\u001b[33mWARNING: Target directory /home/aistudio/external-libraries/charset_normalizer-2.0.10.dist-info already exists. Specify --upgrade to force replacement.\u001b[0m\n",
      "\u001b[33mWARNING: Target directory /home/aistudio/external-libraries/pyparsing already exists. Specify --upgrade to force replacement.\u001b[0m\n",
      "\u001b[33mWARNING: Target directory /home/aistudio/external-libraries/__pycache__ already exists. Specify --upgrade to force replacement.\u001b[0m\n",
      "\u001b[33mWARNING: Target directory /home/aistudio/external-libraries/certifi-2021.10.8.dist-info already exists. Specify --upgrade to force replacement.\u001b[0m\n",
      "\u001b[33mWARNING: Target directory /home/aistudio/external-libraries/dateutil already exists. Specify --upgrade to force replacement.\u001b[0m\n",
      "\u001b[33mWARNING: Target directory /home/aistudio/external-libraries/numpy-1.21.5.dist-info already exists. Specify --upgrade to force replacement.\u001b[0m\n",
      "\u001b[33mWARNING: Target directory /home/aistudio/external-libraries/Pillow-9.0.0.dist-info already exists. Specify --upgrade to force replacement.\u001b[0m\n",
      "\u001b[33mWARNING: Target directory /home/aistudio/external-libraries/typing_extensions-4.0.1.dist-info already exists. Specify --upgrade to force replacement.\u001b[0m\n",
      "\u001b[33mWARNING: Target directory /home/aistudio/external-libraries/packaging-21.3.dist-info already exists. Specify --upgrade to force replacement.\u001b[0m\n",
      "\u001b[33mWARNING: Target directory /home/aistudio/external-libraries/packaging already exists. Specify --upgrade to force replacement.\u001b[0m\n",
      "\u001b[33mWARNING: Target directory /home/aistudio/external-libraries/Pillow.libs already exists. Specify --upgrade to force replacement.\u001b[0m\n",
      "\u001b[33mWARNING: Target directory /home/aistudio/external-libraries/protobuf-3.19.4-py3.7-nspkg.pth already exists. Specify --upgrade to force replacement.\u001b[0m\n",
      "\u001b[33mWARNING: Target directory /home/aistudio/external-libraries/kiwisolver.cpython-37m-x86_64-linux-gnu.so already exists. Specify --upgrade to force replacement.\u001b[0m\n",
      "\u001b[33mWARNING: Target directory /home/aistudio/external-libraries/numpy.libs already exists. Specify --upgrade to force replacement.\u001b[0m\n",
      "\u001b[33mWARNING: Target directory /home/aistudio/external-libraries/urllib3 already exists. Specify --upgrade to force replacement.\u001b[0m\n",
      "\u001b[33mWARNING: Target directory /home/aistudio/external-libraries/matplotlib-3.5.1-py3.7-nspkg.pth already exists. Specify --upgrade to force replacement.\u001b[0m\n",
      "\u001b[33mWARNING: Target directory /home/aistudio/external-libraries/click already exists. Specify --upgrade to force replacement.\u001b[0m\n",
      "\u001b[33mWARNING: Target directory /home/aistudio/external-libraries/yaml already exists. Specify --upgrade to force replacement.\u001b[0m\n",
      "\u001b[33mWARNING: Target directory /home/aistudio/external-libraries/matplotlib already exists. Specify --upgrade to force replacement.\u001b[0m\n",
      "\u001b[33mWARNING: Target directory /home/aistudio/external-libraries/zipp.py already exists. Specify --upgrade to force replacement.\u001b[0m\n",
      "\u001b[33mWARNING: Target directory /home/aistudio/external-libraries/six-1.16.0.dist-info already exists. Specify --upgrade to force replacement.\u001b[0m\n",
      "\u001b[33mWARNING: Target directory /home/aistudio/external-libraries/matplotlib-3.5.1.dist-info already exists. Specify --upgrade to force replacement.\u001b[0m\n",
      "\u001b[33mWARNING: Target directory /home/aistudio/external-libraries/kiwisolver-1.3.2.dist-info already exists. Specify --upgrade to force replacement.\u001b[0m\n",
      "\u001b[33mWARNING: Target directory /home/aistudio/external-libraries/typing_extensions.py already exists. Specify --upgrade to force replacement.\u001b[0m\n",
      "\u001b[33mWARNING: Target directory /home/aistudio/external-libraries/python_dateutil-2.8.2.dist-info already exists. Specify --upgrade to force replacement.\u001b[0m\n",
      "\u001b[33mWARNING: Target directory /home/aistudio/external-libraries/click-8.0.3.dist-info already exists. Specify --upgrade to force replacement.\u001b[0m\n",
      "\u001b[33mWARNING: Target directory /home/aistudio/external-libraries/requests-2.27.1.dist-info already exists. Specify --upgrade to force replacement.\u001b[0m\n",
      "\u001b[33mWARNING: Target directory /home/aistudio/external-libraries/mpl_toolkits already exists. Specify --upgrade to force replacement.\u001b[0m\n",
      "\u001b[33mWARNING: Target directory /home/aistudio/external-libraries/PIL already exists. Specify --upgrade to force replacement.\u001b[0m\n",
      "\u001b[33mWARNING: Target directory /home/aistudio/external-libraries/share already exists. Specify --upgrade to force replacement.\u001b[0m\n",
      "\u001b[33mWARNING: Target directory /home/aistudio/external-libraries/bin already exists. Specify --upgrade to force replacement.\u001b[0m\n"
     ]
    }
   ],
   "source": [
    "# 安装 PaddlePaddle 框架，由于 AIStudio 已配置相应环境，无需安装\n",
    "# !pip install paddlepaddle==1.8.5 -t /home/aistudio/external-libraries\n",
    "# !pip install pgl==1.2.1 -t /home/aistudio/external-libraries #安装PGL ,2022.1.1已经安装\n"
   ]
  },
  {
   "cell_type": "markdown",
   "metadata": {},
   "source": [
    "## 1.2 PGL创建图"
   ]
  },
  {
   "cell_type": "code",
   "execution_count": 5,
   "metadata": {
    "execution": {
     "iopub.execute_input": "2022-02-18T10:58:06.774053Z",
     "iopub.status.busy": "2022-02-18T10:58:06.773522Z",
     "iopub.status.idle": "2022-02-18T10:58:06.781389Z",
     "shell.execute_reply": "2022-02-18T10:58:06.780781Z",
     "shell.execute_reply.started": "2022-02-18T10:58:06.774017Z"
    },
    "scrolled": true
   },
   "outputs": [],
   "source": [
    "import pgl\n",
    "from pgl import graph  # 导入 PGL 中的图模块\n",
    "import paddle.fluid as fluid # 导入飞桨框架\n",
    "import numpy as np\n",
    "\n",
    "def build_graph():\n",
    "    # 定义图中的节点数目，我们使用数字来表示图中的每个节点\n",
    "    num_nodes = 10\n",
    "\n",
    "    # 定义图中的边集，每条边用一个tuple表示\n",
    "    edge_list = [(2, 0), (2, 1), (3, 1),(4, 0), (5, 0),\n",
    "             (6, 0), (6, 4), (6, 5), (7, 0), (7, 1),\n",
    "             (7, 2), (7, 3), (8, 0), (9, 7)]\n",
    "\n",
    "    # 随机初始化节点特征，特征维度为 d\n",
    "    d = 16\n",
    "    feature = np.random.randn(num_nodes, d).astype(\"float32\")\n",
    "\n",
    "    # 随机地为每条边赋值一个权重\n",
    "    edge_feature = np.random.randn(len(edge_list), 1).astype(\"float32\")\n",
    "\n",
    "    # 创建图对象，最多四个输入\n",
    "    g = graph.Graph(num_nodes = num_nodes, #点的个数\n",
    "                    edges = edge_list, # 边的列表\n",
    "                    node_feat = {'feature':feature}, # 节点特征，需要numpy数组格式\n",
    "                    edge_feat ={'edge_feature': edge_feature}) # 边特征，需要numpy数组格式\n",
    "\n",
    "    return g\n"
   ]
  },
  {
   "cell_type": "code",
   "execution_count": 23,
   "metadata": {
    "execution": {
     "iopub.execute_input": "2022-02-18T11:39:10.701291Z",
     "iopub.status.busy": "2022-02-18T11:39:10.700762Z",
     "iopub.status.idle": "2022-02-18T11:39:10.711336Z",
     "shell.execute_reply": "2022-02-18T11:39:10.710524Z",
     "shell.execute_reply.started": "2022-02-18T11:39:10.701256Z"
    },
    "scrolled": true
   },
   "outputs": [
    {
     "name": "stdout",
     "output_type": "stream",
     "text": [
      "图中共计 10 个节点\n",
      "图中共计 14 条边\n",
      "(14, 1)\n",
      "(10, 16)\n"
     ]
    },
    {
     "data": {
      "text/plain": [
       "{'feature': array([[-0.2477345 , -0.812736  , -1.4650254 ,  0.4828808 , -0.764734  ,\n",
       "          0.3886107 ,  0.36288208,  0.26333258,  0.7573494 , -0.5630978 ,\n",
       "         -2.6487281 ,  1.3338678 ,  0.14907381, -0.35734096,  1.0074781 ,\n",
       "          0.88632774],\n",
       "        [ 0.16336803, -1.6093405 , -0.05840158, -0.40328953,  1.2657588 ,\n",
       "         -1.0222794 ,  0.14264646,  0.13105309, -0.979174  , -1.1595355 ,\n",
       "          0.12038045,  0.20591302,  0.92540574, -0.4145023 ,  0.50135154,\n",
       "          0.43452904],\n",
       "        [ 1.0713071 ,  2.4842212 ,  0.8265732 ,  0.12600829, -0.1596692 ,\n",
       "          0.48708674,  0.7626266 , -0.49102503, -0.30354235, -0.35510728,\n",
       "         -0.14856303,  0.64257216, -1.0370559 ,  1.3658324 , -1.0982478 ,\n",
       "         -0.504533  ],\n",
       "        [-3.5079772 , -0.21437575, -0.06436482, -0.03339192, -0.56347525,\n",
       "          0.15562916,  0.91232836,  2.026211  , -0.5154434 ,  0.71511346,\n",
       "          0.38422295,  2.4751744 ,  1.6493696 ,  0.192638  , -0.7111548 ,\n",
       "         -0.6326861 ],\n",
       "        [-0.46454987,  0.13613413,  0.9352385 , -2.0982344 ,  1.4427807 ,\n",
       "         -0.47226727, -0.9954261 , -0.4838756 ,  0.04894435,  1.8609866 ,\n",
       "          0.6054691 , -0.755112  , -1.3470109 ,  1.3084757 , -0.6768903 ,\n",
       "         -1.2906861 ],\n",
       "        [ 0.7511594 ,  1.7090005 ,  0.49805817,  1.1478237 ,  0.1107532 ,\n",
       "         -0.5900546 ,  0.13985153,  0.33066535, -0.89152396, -1.0641309 ,\n",
       "          0.52954304, -0.2448736 ,  0.39648598, -0.2766196 , -1.0382377 ,\n",
       "         -1.2865344 ],\n",
       "        [-0.38146827, -0.37335584, -0.39103165,  0.4818375 , -0.80265135,\n",
       "         -0.10501064, -1.3719306 ,  0.07904419,  0.96036756, -0.37336674,\n",
       "         -0.62703335, -0.6783368 , -0.6313121 ,  0.5224404 ,  0.9023443 ,\n",
       "          0.21234773],\n",
       "        [-0.8302177 ,  1.6967299 ,  0.8292803 , -2.0755527 , -0.97423816,\n",
       "          0.0127796 , -0.9395379 , -0.02643898,  1.0799457 ,  0.0715773 ,\n",
       "          0.8257947 ,  0.5232409 , -1.5379084 ,  0.35598004, -0.98460037,\n",
       "         -1.7231703 ],\n",
       "        [ 1.039199  ,  0.4796819 , -0.2041138 , -0.72697717,  0.26675725,\n",
       "          0.20158012,  0.19761062, -1.4592272 ,  1.251735  ,  0.09154288,\n",
       "          0.7629311 ,  0.37992698, -0.34915805, -0.60624206,  0.9365814 ,\n",
       "         -3.1255    ],\n",
       "        [-1.9913388 ,  0.45915806,  0.92368096, -1.7027557 , -0.93565595,\n",
       "          0.49241334, -1.0833737 , -0.6121834 ,  1.460362  ,  0.8510664 ,\n",
       "         -0.7439944 ,  1.4703007 ,  0.63058984,  0.26459575,  0.8064864 ,\n",
       "          0.554406  ]], dtype=float32)}"
      ]
     },
     "execution_count": 23,
     "metadata": {},
     "output_type": "execute_result"
    }
   ],
   "source": [
    "g = build_graph()\n",
    "print('图中共计 %d 个节点' % g.num_nodes)\n",
    "print('图中共计 %d 条边' % g.num_edges)\n",
    "g.edge_feat['edge_feature'].shape # 边特征\n",
    "print(g.edge_feat['edge_feature'].shape)\n",
    "print(g.node_feat['feature'].shape)\n"
   ]
  },
  {
   "cell_type": "markdown",
   "metadata": {},
   "source": [
    "## 定义层"
   ]
  },
  {
   "cell_type": "code",
   "execution_count": 26,
   "metadata": {
    "execution": {
     "iopub.execute_input": "2022-02-18T11:45:50.642196Z",
     "iopub.status.busy": "2022-02-18T11:45:50.641131Z",
     "iopub.status.idle": "2022-02-18T11:45:50.647944Z",
     "shell.execute_reply": "2022-02-18T11:45:50.647225Z",
     "shell.execute_reply.started": "2022-02-18T11:45:50.642161Z"
    },
    "scrolled": true
   },
   "outputs": [],
   "source": [
    "# 定义一个同时传递节点特征和边权重的简单模型层。\n",
    "def model_layer(gw, nfeat, efeat, hidden_size, name, activation):\n",
    "    '''\n",
    "    gw: GraphWrapper 图数据容器，用于在定义模型的时候使用，后续训练时再feed入真实数据\n",
    "    nfeat: 节点特征\n",
    "    efeat: 边权重\n",
    "    hidden_size: 模型隐藏层维度\n",
    "    activation: 使用的激活函数\n",
    "    '''\n",
    "\n",
    "    # 定义 send 函数\n",
    "    def send_func(src_feat, dst_feat, edge_feat):\n",
    "        # 将源节点的节点特征和边权重共同作为消息发送\n",
    "        return src_feat['h'] * edge_feat['e']\n",
    "\n",
    "    # 定义 recv 函数\n",
    "    def recv_func(feat):\n",
    "        # 目标节点接收源节点消息，采用 sum 的聚合方式\n",
    "        return fluid.layers.sequence_pool(feat, pool_type='sum')\n",
    "\n",
    "    # 触发消息传递机制\n",
    "    msg = gw.send(send_func, nfeat_list=[('h', nfeat)], efeat_list=[('e', efeat)])\n",
    "    output = gw.recv(msg, recv_func)\n",
    "    output = fluid.layers.fc(output,\n",
    "                    size=hidden_size,\n",
    "                    bias_attr=False,\n",
    "                    act=activation,\n",
    "                    name=name)\n",
    "    return output"
   ]
  },
  {
   "cell_type": "markdown",
   "metadata": {},
   "source": [
    "## 定义模型"
   ]
  },
  {
   "cell_type": "code",
   "execution_count": 27,
   "metadata": {
    "execution": {
     "iopub.execute_input": "2022-02-18T11:45:51.515099Z",
     "iopub.status.busy": "2022-02-18T11:45:51.514573Z",
     "iopub.status.idle": "2022-02-18T11:45:51.523476Z",
     "shell.execute_reply": "2022-02-18T11:45:51.522928Z",
     "shell.execute_reply.started": "2022-02-18T11:45:51.515063Z"
    },
    "scrolled": true
   },
   "outputs": [],
   "source": [
    "class Model(object):\n",
    "    def __init__(self, graph):\n",
    "        \"\"\"\n",
    "        graph: 我们前面创建好的图\n",
    "        \"\"\"\n",
    "        # 创建 GraphWrapper 图数据容器，用于在定义模型的时候使用，后续训练时再feed入真实数据\n",
    "        self.gw = pgl.graph_wrapper.GraphWrapper(name='graph',\n",
    "                    node_feat=graph.node_feat_info(),\n",
    "                    edge_feat=graph.edge_feat_info())\n",
    "        # 作用同 GraphWrapper，此处用作节点标签的容器\n",
    "        self.node_label = fluid.layers.data(\"node_label\", shape=[None, 1],\n",
    "                    dtype=\"float32\", append_batch_size=False)\n",
    "\n",
    "    def build_model(self):\n",
    "        # 定义两层model_layer\n",
    "        output = model_layer(self.gw, \n",
    "                             self.gw.node_feat['feature'], \n",
    "                             self.gw.edge_feat['edge_feature'],\n",
    "                             hidden_size=8, \n",
    "                             name='layer_1', \n",
    "                             activation='relu')\n",
    "        output = model_layer(self.gw, \n",
    "                             output, \n",
    "                             self.gw.edge_feat['edge_feature'],\n",
    "                             hidden_size=1, \n",
    "                             name='layer_2', \n",
    "                             activation=None)\n",
    "                             \n",
    "        # 对于二分类任务，可以使用以下 API 计算损失\n",
    "        loss = fluid.layers.sigmoid_cross_entropy_with_logits(x=output, \n",
    "                                                              label=self.node_label)\n",
    "        # 计算平均损失\n",
    "        loss = fluid.layers.mean(loss)\n",
    "        \n",
    "        # 计算准确率\n",
    "        prob = fluid.layers.sigmoid(output)\n",
    "        pred = prob > 0.5\n",
    "        pred = fluid.layers.cast(prob > 0.5, dtype=\"float32\")\n",
    "        correct = fluid.layers.equal(pred, self.node_label)\n",
    "        correct = fluid.layers.cast(correct, dtype=\"float32\")\n",
    "        acc = fluid.layers.reduce_mean(correct)\n",
    "\n",
    "        return loss, acc"
   ]
  },
  {
   "cell_type": "markdown",
   "metadata": {},
   "source": [
    "## 训练准备"
   ]
  },
  {
   "cell_type": "code",
   "execution_count": 28,
   "metadata": {
    "execution": {
     "iopub.execute_input": "2022-02-18T11:45:52.424874Z",
     "iopub.status.busy": "2022-02-18T11:45:52.423742Z",
     "iopub.status.idle": "2022-02-18T11:45:52.485230Z",
     "shell.execute_reply": "2022-02-18T11:45:52.484291Z",
     "shell.execute_reply.started": "2022-02-18T11:45:52.424811Z"
    },
    "scrolled": true
   },
   "outputs": [
    {
     "name": "stderr",
     "output_type": "stream",
     "text": [
      "/home/aistudio/external-libraries/pgl/graph_wrapper.py:151: UserWarning: The edge features in argument `efeat_list` should be fetched from a instance of `pgl.graph_wrapper.GraphWrapper`, because we have sorted the edges and the order of edges is changed.\n",
      "Therefore, if you use external edge features, the order of features of each edge may not match its edge, which can cause serious errors.\n",
      "If you use the `efeat_list` correctly, please ignore this warning.\n",
      "  \"The edge features in argument `efeat_list` should be fetched \"\n"
     ]
    }
   ],
   "source": [
    "# 是否在 GPU 或 CPU 环境运行\n",
    "use_cuda = False\n",
    "place = fluid.CUDAPlace(0) if use_cuda else fluid.CPUPlace()\n",
    "\n",
    "# 定义程序，也就是我们的 Program\n",
    "startup_program = fluid.Program() # 用于初始化模型参数\n",
    "train_program = fluid.Program()   # 训练时使用的主程序，包含前向计算和反向梯度计算\n",
    "test_program = fluid.Program()    # 测试时使用的程序，只包含前向计算\n",
    "\n",
    "with fluid.program_guard(train_program, startup_program):\n",
    "    model = Model(g)\n",
    "    # 创建模型和计算 Loss\n",
    "    loss, acc = model.build_model()\n",
    "    # 选择Adam优化器，学习率设置为0.01\n",
    "    adam = fluid.optimizer.Adam(learning_rate=0.01)\n",
    "    adam.minimize(loss) # 计算梯度和执行梯度反向传播过程\n",
    "\n",
    "# 复制构造 test_program，与 train_program的区别在于不需要梯度计算和反向过程。\n",
    "test_program = train_program.clone(for_test=True)\n",
    "\n",
    "# 定义一个在 place(CPU)上的Executor来执行program\n",
    "exe = fluid.Executor(place)\n",
    "# 参数初始化\n",
    "exe.run(startup_program) \n",
    "\n",
    "# 获取真实图数据\n",
    "feed_dict = model.gw.to_feed(g) \n",
    "# 获取真实标签数据\n",
    "# 由于我们是做节点分类任务，因此可以简单的用0、1表示节点类别。其中，黄色点标签为0，绿色点标签为1。\n",
    "y = [0,1,1,1,0,0,0,1,0,1]\n",
    "label = np.array(y, dtype=\"float32\")\n",
    "label = np.expand_dims(label, -1)\n",
    "feed_dict['node_label'] = label"
   ]
  },
  {
   "cell_type": "code",
   "execution_count": 29,
   "metadata": {
    "execution": {
     "iopub.execute_input": "2022-02-18T11:47:57.009984Z",
     "iopub.status.busy": "2022-02-18T11:47:57.009134Z",
     "iopub.status.idle": "2022-02-18T11:47:57.016225Z",
     "shell.execute_reply": "2022-02-18T11:47:57.015633Z",
     "shell.execute_reply.started": "2022-02-18T11:47:57.009944Z"
    },
    "scrolled": true
   },
   "outputs": [
    {
     "name": "stdout",
     "output_type": "stream",
     "text": [
      "{'graph/num_edges': array([14]), 'graph/edges_src': array([2, 4, 5, 6, 7, 8, 2, 3, 7, 7, 7, 6, 6, 9]), 'graph/edges_dst': array([0, 0, 0, 0, 0, 0, 1, 1, 1, 2, 3, 4, 5, 7]), 'graph/num_nodes': array([10]), 'graph/uniq_dst': array([0, 1, 2, 3, 4, 5, 7]), 'graph/uniq_dst_count': array([ 0,  6,  9, 10, 11, 12, 13, 14], dtype=int32), 'graph/indegree': array([6, 3, 1, 1, 1, 1, 0, 1, 0, 0]), 'graph/graph_lod': array([ 0, 10], dtype=int32), 'graph/num_graph': array([1]), 'graph/node_feat/feature': array([[-0.2477345 , -0.812736  , -1.4650254 ,  0.4828808 , -0.764734  ,\n",
      "         0.3886107 ,  0.36288208,  0.26333258,  0.7573494 , -0.5630978 ,\n",
      "        -2.6487281 ,  1.3338678 ,  0.14907381, -0.35734096,  1.0074781 ,\n",
      "         0.88632774],\n",
      "       [ 0.16336803, -1.6093405 , -0.05840158, -0.40328953,  1.2657588 ,\n",
      "        -1.0222794 ,  0.14264646,  0.13105309, -0.979174  , -1.1595355 ,\n",
      "         0.12038045,  0.20591302,  0.92540574, -0.4145023 ,  0.50135154,\n",
      "         0.43452904],\n",
      "       [ 1.0713071 ,  2.4842212 ,  0.8265732 ,  0.12600829, -0.1596692 ,\n",
      "         0.48708674,  0.7626266 , -0.49102503, -0.30354235, -0.35510728,\n",
      "        -0.14856303,  0.64257216, -1.0370559 ,  1.3658324 , -1.0982478 ,\n",
      "        -0.504533  ],\n",
      "       [-3.5079772 , -0.21437575, -0.06436482, -0.03339192, -0.56347525,\n",
      "         0.15562916,  0.91232836,  2.026211  , -0.5154434 ,  0.71511346,\n",
      "         0.38422295,  2.4751744 ,  1.6493696 ,  0.192638  , -0.7111548 ,\n",
      "        -0.6326861 ],\n",
      "       [-0.46454987,  0.13613413,  0.9352385 , -2.0982344 ,  1.4427807 ,\n",
      "        -0.47226727, -0.9954261 , -0.4838756 ,  0.04894435,  1.8609866 ,\n",
      "         0.6054691 , -0.755112  , -1.3470109 ,  1.3084757 , -0.6768903 ,\n",
      "        -1.2906861 ],\n",
      "       [ 0.7511594 ,  1.7090005 ,  0.49805817,  1.1478237 ,  0.1107532 ,\n",
      "        -0.5900546 ,  0.13985153,  0.33066535, -0.89152396, -1.0641309 ,\n",
      "         0.52954304, -0.2448736 ,  0.39648598, -0.2766196 , -1.0382377 ,\n",
      "        -1.2865344 ],\n",
      "       [-0.38146827, -0.37335584, -0.39103165,  0.4818375 , -0.80265135,\n",
      "        -0.10501064, -1.3719306 ,  0.07904419,  0.96036756, -0.37336674,\n",
      "        -0.62703335, -0.6783368 , -0.6313121 ,  0.5224404 ,  0.9023443 ,\n",
      "         0.21234773],\n",
      "       [-0.8302177 ,  1.6967299 ,  0.8292803 , -2.0755527 , -0.97423816,\n",
      "         0.0127796 , -0.9395379 , -0.02643898,  1.0799457 ,  0.0715773 ,\n",
      "         0.8257947 ,  0.5232409 , -1.5379084 ,  0.35598004, -0.98460037,\n",
      "        -1.7231703 ],\n",
      "       [ 1.039199  ,  0.4796819 , -0.2041138 , -0.72697717,  0.26675725,\n",
      "         0.20158012,  0.19761062, -1.4592272 ,  1.251735  ,  0.09154288,\n",
      "         0.7629311 ,  0.37992698, -0.34915805, -0.60624206,  0.9365814 ,\n",
      "        -3.1255    ],\n",
      "       [-1.9913388 ,  0.45915806,  0.92368096, -1.7027557 , -0.93565595,\n",
      "         0.49241334, -1.0833737 , -0.6121834 ,  1.460362  ,  0.8510664 ,\n",
      "        -0.7439944 ,  1.4703007 ,  0.63058984,  0.26459575,  0.8064864 ,\n",
      "         0.554406  ]], dtype=float32), 'graph/edge_feat/edge_feature': array([[ 1.344796  ],\n",
      "       [ 0.68451893],\n",
      "       [-0.64394885],\n",
      "       [-0.8812267 ],\n",
      "       [-0.810489  ],\n",
      "       [ 2.519896  ],\n",
      "       [ 0.60350484],\n",
      "       [ 0.32540292],\n",
      "       [ 1.1874619 ],\n",
      "       [ 1.7571234 ],\n",
      "       [ 1.0689613 ],\n",
      "       [-0.7947575 ],\n",
      "       [ 0.6749271 ],\n",
      "       [-0.62335646]], dtype=float32), 'node_label': array([[0.],\n",
      "       [1.],\n",
      "       [1.],\n",
      "       [1.],\n",
      "       [0.],\n",
      "       [0.],\n",
      "       [0.],\n",
      "       [1.],\n",
      "       [0.],\n",
      "       [1.]], dtype=float32)}\n"
     ]
    }
   ],
   "source": [
    "print(feed_dict)"
   ]
  },
  {
   "cell_type": "code",
   "execution_count": 30,
   "metadata": {
    "execution": {
     "iopub.execute_input": "2022-02-18T11:48:53.354517Z",
     "iopub.status.busy": "2022-02-18T11:48:53.353900Z",
     "iopub.status.idle": "2022-02-18T11:48:53.652098Z",
     "shell.execute_reply": "2022-02-18T11:48:53.651422Z",
     "shell.execute_reply.started": "2022-02-18T11:48:53.354485Z"
    },
    "scrolled": true
   },
   "outputs": [
    {
     "name": "stdout",
     "output_type": "stream",
     "text": [
      "Epoch 0 | Loss: 1.171933\n",
      "Epoch 1 | Loss: 1.038481\n",
      "Epoch 2 | Loss: 0.904573\n",
      "Epoch 3 | Loss: 0.787878\n",
      "Epoch 4 | Loss: 0.705820\n",
      "Epoch 5 | Loss: 0.650643\n",
      "Epoch 6 | Loss: 0.613303\n",
      "Epoch 7 | Loss: 0.582065\n",
      "Epoch 8 | Loss: 0.561654\n",
      "Epoch 9 | Loss: 0.545847\n",
      "Epoch 10 | Loss: 0.531641\n",
      "Epoch 11 | Loss: 0.518906\n",
      "Epoch 12 | Loss: 0.507505\n",
      "Epoch 13 | Loss: 0.497302\n",
      "Epoch 14 | Loss: 0.488169\n",
      "Epoch 15 | Loss: 0.479996\n",
      "Epoch 16 | Loss: 0.472690\n",
      "Epoch 17 | Loss: 0.466169\n",
      "Epoch 18 | Loss: 0.460366\n",
      "Epoch 19 | Loss: 0.455218\n",
      "Epoch 20 | Loss: 0.450667\n",
      "Epoch 21 | Loss: 0.446660\n",
      "Epoch 22 | Loss: 0.443143\n",
      "Epoch 23 | Loss: 0.440067\n",
      "Epoch 24 | Loss: 0.437382\n",
      "Epoch 25 | Loss: 0.435043\n",
      "Epoch 26 | Loss: 0.433008\n",
      "Epoch 27 | Loss: 0.431238\n",
      "Epoch 28 | Loss: 0.429698\n",
      "Epoch 29 | Loss: 0.428358\n"
     ]
    }
   ],
   "source": [
    "for epoch in range(30):\n",
    "    train_loss = exe.run(train_program,\n",
    "        feed=feed_dict,      # feed入真实训练数据\n",
    "        fetch_list=[loss],   # fetch出需要的计算结果\n",
    "        return_numpy=True)[0]\n",
    "    print('Epoch %d | Loss: %f' % (epoch, train_loss))"
   ]
  },
  {
   "cell_type": "code",
   "execution_count": 31,
   "metadata": {
    "execution": {
     "iopub.execute_input": "2022-02-18T11:49:06.392968Z",
     "iopub.status.busy": "2022-02-18T11:49:06.392487Z",
     "iopub.status.idle": "2022-02-18T11:49:06.406851Z",
     "shell.execute_reply": "2022-02-18T11:49:06.406082Z",
     "shell.execute_reply.started": "2022-02-18T11:49:06.392929Z"
    },
    "scrolled": true
   },
   "outputs": [
    {
     "name": "stdout",
     "output_type": "stream",
     "text": [
      "Test Acc: 0.800000\n"
     ]
    },
    {
     "name": "stderr",
     "output_type": "stream",
     "text": [
      "/opt/conda/envs/python35-paddle120-env/lib/python3.7/site-packages/paddle/fluid/executor.py:613: UserWarning: The variable graph/edges_dst is not found in program. It is not declared or is pruned.\n",
      "  % name)\n",
      "/opt/conda/envs/python35-paddle120-env/lib/python3.7/site-packages/paddle/fluid/executor.py:613: UserWarning: The variable graph/indegree is not found in program. It is not declared or is pruned.\n",
      "  % name)\n",
      "/opt/conda/envs/python35-paddle120-env/lib/python3.7/site-packages/paddle/fluid/executor.py:613: UserWarning: The variable graph/graph_lod is not found in program. It is not declared or is pruned.\n",
      "  % name)\n",
      "/opt/conda/envs/python35-paddle120-env/lib/python3.7/site-packages/paddle/fluid/executor.py:613: UserWarning: The variable graph/num_graph is not found in program. It is not declared or is pruned.\n",
      "  % name)\n"
     ]
    }
   ],
   "source": [
    "test_acc = exe.run(test_program, feed=feed_dict, fetch_list=[acc], return_numpy=True)[0]\n",
    "print(\"Test Acc: %f\" % test_acc)"
   ]
  },
  {
   "cell_type": "code",
   "execution_count": null,
   "metadata": {
    "scrolled": true
   },
   "outputs": [],
   "source": []
  },
  {
   "cell_type": "markdown",
   "metadata": {},
   "source": [
    "请点击[此处](https://ai.baidu.com/docs#/AIStudio_Project_Notebook/a38e5576)查看本环境基本用法.  <br>\n",
    "Please click [here ](https://ai.baidu.com/docs#/AIStudio_Project_Notebook/a38e5576) for more detailed instructions. "
   ]
  }
 ],
 "metadata": {
  "kernelspec": {
   "display_name": "Python 3",
   "language": "python",
   "name": "py35-paddle1.2.0"
  },
  "language_info": {
   "codemirror_mode": {
    "name": "ipython",
    "version": 3
   },
   "file_extension": ".py",
   "mimetype": "text/x-python",
   "name": "python",
   "nbconvert_exporter": "python",
   "pygments_lexer": "ipython3",
   "version": "3.7.4"
  },
  "toc-showmarkdowntxt": false,
  "toc-showtags": true
 },
 "nbformat": 4,
 "nbformat_minor": 4
}
